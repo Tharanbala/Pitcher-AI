{
  "nbformat": 4,
  "nbformat_minor": 0,
  "metadata": {
    "colab": {
      "provenance": [],
      "authorship_tag": "ABX9TyPpZr+g2aw5WU+z57oIJGuJ",
      "include_colab_link": true
    },
    "kernelspec": {
      "name": "python3",
      "display_name": "Python 3"
    },
    "language_info": {
      "name": "python"
    }
  },
  "cells": [
    {
      "cell_type": "markdown",
      "metadata": {
        "id": "view-in-github",
        "colab_type": "text"
      },
      "source": [
        "<a href=\"https://colab.research.google.com/github/Tharanbala/product-reviewer/blob/tirth_backend/async_agent_multiple_groq.ipynb\" target=\"_parent\"><img src=\"https://colab.research.google.com/assets/colab-badge.svg\" alt=\"Open In Colab\"/></a>"
      ]
    },
    {
      "cell_type": "code",
      "execution_count": 1,
      "metadata": {
        "colab": {
          "base_uri": "https://localhost:8080/"
        },
        "id": "11TtYYyzt1mx",
        "outputId": "be1acbb1-2ed5-42bf-802f-c5e8e7589ab4"
      },
      "outputs": [
        {
          "output_type": "stream",
          "name": "stdout",
          "text": [
            "Collecting python-dotenv\n",
            "  Downloading python_dotenv-1.0.1-py3-none-any.whl.metadata (23 kB)\n",
            "Downloading python_dotenv-1.0.1-py3-none-any.whl (19 kB)\n",
            "Installing collected packages: python-dotenv\n",
            "Successfully installed python-dotenv-1.0.1\n",
            "Collecting groq\n",
            "  Downloading groq-0.9.0-py3-none-any.whl.metadata (13 kB)\n",
            "Requirement already satisfied: anyio<5,>=3.5.0 in /usr/local/lib/python3.10/dist-packages (from groq) (3.7.1)\n",
            "Requirement already satisfied: distro<2,>=1.7.0 in /usr/lib/python3/dist-packages (from groq) (1.7.0)\n",
            "Collecting httpx<1,>=0.23.0 (from groq)\n",
            "  Downloading httpx-0.27.0-py3-none-any.whl.metadata (7.2 kB)\n",
            "Requirement already satisfied: pydantic<3,>=1.9.0 in /usr/local/lib/python3.10/dist-packages (from groq) (2.8.2)\n",
            "Requirement already satisfied: sniffio in /usr/local/lib/python3.10/dist-packages (from groq) (1.3.1)\n",
            "Requirement already satisfied: typing-extensions<5,>=4.7 in /usr/local/lib/python3.10/dist-packages (from groq) (4.12.2)\n",
            "Requirement already satisfied: idna>=2.8 in /usr/local/lib/python3.10/dist-packages (from anyio<5,>=3.5.0->groq) (3.7)\n",
            "Requirement already satisfied: exceptiongroup in /usr/local/lib/python3.10/dist-packages (from anyio<5,>=3.5.0->groq) (1.2.2)\n",
            "Requirement already satisfied: certifi in /usr/local/lib/python3.10/dist-packages (from httpx<1,>=0.23.0->groq) (2024.7.4)\n",
            "Collecting httpcore==1.* (from httpx<1,>=0.23.0->groq)\n",
            "  Downloading httpcore-1.0.5-py3-none-any.whl.metadata (20 kB)\n",
            "Collecting h11<0.15,>=0.13 (from httpcore==1.*->httpx<1,>=0.23.0->groq)\n",
            "  Downloading h11-0.14.0-py3-none-any.whl.metadata (8.2 kB)\n",
            "Requirement already satisfied: annotated-types>=0.4.0 in /usr/local/lib/python3.10/dist-packages (from pydantic<3,>=1.9.0->groq) (0.7.0)\n",
            "Requirement already satisfied: pydantic-core==2.20.1 in /usr/local/lib/python3.10/dist-packages (from pydantic<3,>=1.9.0->groq) (2.20.1)\n",
            "Downloading groq-0.9.0-py3-none-any.whl (103 kB)\n",
            "\u001b[2K   \u001b[90m━━━━━━━━━━━━━━━━━━━━━━━━━━━━━━━━━━━━━━━━\u001b[0m \u001b[32m103.5/103.5 kB\u001b[0m \u001b[31m2.6 MB/s\u001b[0m eta \u001b[36m0:00:00\u001b[0m\n",
            "\u001b[?25hDownloading httpx-0.27.0-py3-none-any.whl (75 kB)\n",
            "\u001b[2K   \u001b[90m━━━━━━━━━━━━━━━━━━━━━━━━━━━━━━━━━━━━━━━━\u001b[0m \u001b[32m75.6/75.6 kB\u001b[0m \u001b[31m5.2 MB/s\u001b[0m eta \u001b[36m0:00:00\u001b[0m\n",
            "\u001b[?25hDownloading httpcore-1.0.5-py3-none-any.whl (77 kB)\n",
            "\u001b[2K   \u001b[90m━━━━━━━━━━━━━━━━━━━━━━━━━━━━━━━━━━━━━━━━\u001b[0m \u001b[32m77.9/77.9 kB\u001b[0m \u001b[31m5.6 MB/s\u001b[0m eta \u001b[36m0:00:00\u001b[0m\n",
            "\u001b[?25hDownloading h11-0.14.0-py3-none-any.whl (58 kB)\n",
            "\u001b[2K   \u001b[90m━━━━━━━━━━━━━━━━━━━━━━━━━━━━━━━━━━━━━━━━\u001b[0m \u001b[32m58.3/58.3 kB\u001b[0m \u001b[31m3.7 MB/s\u001b[0m eta \u001b[36m0:00:00\u001b[0m\n",
            "\u001b[?25hInstalling collected packages: h11, httpcore, httpx, groq\n",
            "Successfully installed groq-0.9.0 h11-0.14.0 httpcore-1.0.5 httpx-0.27.0\n",
            "Collecting openai\n",
            "  Downloading openai-1.42.0-py3-none-any.whl.metadata (22 kB)\n",
            "Requirement already satisfied: anyio<5,>=3.5.0 in /usr/local/lib/python3.10/dist-packages (from openai) (3.7.1)\n",
            "Requirement already satisfied: distro<2,>=1.7.0 in /usr/lib/python3/dist-packages (from openai) (1.7.0)\n",
            "Requirement already satisfied: httpx<1,>=0.23.0 in /usr/local/lib/python3.10/dist-packages (from openai) (0.27.0)\n",
            "Collecting jiter<1,>=0.4.0 (from openai)\n",
            "  Downloading jiter-0.5.0-cp310-cp310-manylinux_2_17_x86_64.manylinux2014_x86_64.whl.metadata (3.6 kB)\n",
            "Requirement already satisfied: pydantic<3,>=1.9.0 in /usr/local/lib/python3.10/dist-packages (from openai) (2.8.2)\n",
            "Requirement already satisfied: sniffio in /usr/local/lib/python3.10/dist-packages (from openai) (1.3.1)\n",
            "Requirement already satisfied: tqdm>4 in /usr/local/lib/python3.10/dist-packages (from openai) (4.66.5)\n",
            "Requirement already satisfied: typing-extensions<5,>=4.11 in /usr/local/lib/python3.10/dist-packages (from openai) (4.12.2)\n",
            "Requirement already satisfied: idna>=2.8 in /usr/local/lib/python3.10/dist-packages (from anyio<5,>=3.5.0->openai) (3.7)\n",
            "Requirement already satisfied: exceptiongroup in /usr/local/lib/python3.10/dist-packages (from anyio<5,>=3.5.0->openai) (1.2.2)\n",
            "Requirement already satisfied: certifi in /usr/local/lib/python3.10/dist-packages (from httpx<1,>=0.23.0->openai) (2024.7.4)\n",
            "Requirement already satisfied: httpcore==1.* in /usr/local/lib/python3.10/dist-packages (from httpx<1,>=0.23.0->openai) (1.0.5)\n",
            "Requirement already satisfied: h11<0.15,>=0.13 in /usr/local/lib/python3.10/dist-packages (from httpcore==1.*->httpx<1,>=0.23.0->openai) (0.14.0)\n",
            "Requirement already satisfied: annotated-types>=0.4.0 in /usr/local/lib/python3.10/dist-packages (from pydantic<3,>=1.9.0->openai) (0.7.0)\n",
            "Requirement already satisfied: pydantic-core==2.20.1 in /usr/local/lib/python3.10/dist-packages (from pydantic<3,>=1.9.0->openai) (2.20.1)\n",
            "Downloading openai-1.42.0-py3-none-any.whl (362 kB)\n",
            "\u001b[2K   \u001b[90m━━━━━━━━━━━━━━━━━━━━━━━━━━━━━━━━━━━━━━━━\u001b[0m \u001b[32m362.9/362.9 kB\u001b[0m \u001b[31m6.9 MB/s\u001b[0m eta \u001b[36m0:00:00\u001b[0m\n",
            "\u001b[?25hDownloading jiter-0.5.0-cp310-cp310-manylinux_2_17_x86_64.manylinux2014_x86_64.whl (318 kB)\n",
            "\u001b[2K   \u001b[90m━━━━━━━━━━━━━━━━━━━━━━━━━━━━━━━━━━━━━━━━\u001b[0m \u001b[32m318.9/318.9 kB\u001b[0m \u001b[31m15.4 MB/s\u001b[0m eta \u001b[36m0:00:00\u001b[0m\n",
            "\u001b[?25hInstalling collected packages: jiter, openai\n",
            "Successfully installed jiter-0.5.0 openai-1.42.0\n"
          ]
        }
      ],
      "source": [
        "!pip install python-dotenv\n",
        "!pip install groq\n",
        "!pip install openai"
      ]
    },
    {
      "cell_type": "code",
      "source": [
        "import os\n",
        "from dotenv import load_dotenv, find_dotenv\n",
        "load_dotenv()"
      ],
      "metadata": {
        "colab": {
          "base_uri": "https://localhost:8080/"
        },
        "id": "TAG_MgfZt_AE",
        "outputId": "24f20023-d4e0-4fc8-d95f-0355946a543d"
      },
      "execution_count": 2,
      "outputs": [
        {
          "output_type": "execute_result",
          "data": {
            "text/plain": [
              "True"
            ]
          },
          "metadata": {},
          "execution_count": 2
        }
      ]
    },
    {
      "cell_type": "code",
      "source": [
        "import random\n",
        "import asyncio\n",
        "from groq import AsyncGroq\n",
        "import nest_asyncio\n",
        "from openai import AsyncClient"
      ],
      "metadata": {
        "id": "Jr7DA2HGwn4Q"
      },
      "execution_count": 8,
      "outputs": []
    },
    {
      "cell_type": "code",
      "source": [
        "data = {\n",
        "    \"model_responses\": [\n",
        "        {\n",
        "            \"model\": \"llama3-8b-8192\",\n",
        "            \"completion\": \"Hi guys!\\n\\nAre you tired of breaking the bank on a new TV? Look no further! I'm excited to share with you three incredible options from TCL that won't burn a hole in your pocket.\\n\\nFirst up, we have the TCL 55\\\" Class 4-Series 4K UHD Smart Roku TV, which is currently priced at just $363.01 on Amazon. This TV boasts stunning 4K picture quality with excellent brightness and contrast, making it perfect for immersing yourself in your favorite movies and shows. Plus, it's equipped with all major streaming apps, including HBO Max, and features a user-friendly Roku OS.\\n\\nIf budget is a major concern, the TCL 55\\\" Class 4-Series LED 4K UHD Smart Android TV is another fantastic option. You can grab this one for around $200 on Best Buy, which is an absolute steal! This TV offers excellent picture quality, great value for its price, and all the major streaming apps. However, keep in mind that the remote control and sound quality might not be as impressive as some of the higher-end models.\\n\\nFor those looking to splurge a bit more, the TCL 55\\\" 4K UHD Smart TV (55R646) is a premium option that's worth considering. With a price tag of around $949.99, you get strong performance, excellent contrast and color accuracy, and impressive features like a 120Hz refresh rate and VRR for gaming. However, some users have reported software instability issues, so be sure to check for updates before making the purchase.\\n\\nIn conclusion, the TCL 55\\\" Class 4-Series 4K UHD Smart Roku TV and TCL 55\\\" Class 4-Series LED 4K UHD Smart Android TV are both excellent budget options that won't compromise on picture quality. The TCL 55\\\" 4K UHD Smart TV (55R646) is a more premium model that offers strong performance and features, but be aware of the potential software issues.\\n\\nWhich one will you choose? Let me know in the comments below!\\n\\nTime's up! Thanks for watching, and I'll see you in the next video!\"\n",
        "        },\n",
        "        {\n",
        "            \"model\": \"mixtral-8x7b-32768\",\n",
        "            \"completion\": \"Hey there, millennials! I'm here to talk about the TCL 55\\\" Class 4-Series 4K UHD Smart Roku TV (55S455) that you can snag on Amazon for just $363.01. This TV is a budget-friendly option that packs a punch when it comes to picture quality and value for money.\\n\\nWith stunning 4K Ultra HD and excellent brightness and contrast, you'll be blown away by the picture on this 55-inch screen. Plus, it has all the major streaming apps, including HBO Max, making it easy for you to access your favorite shows and movies. And, the Roku OS is super easy to navigate, so you can spend less time figuring out how to use your TV and more time enjoying it.\\n\\nNow, let's talk about the cons. Some users find the remote control to be a little less user-friendly than other models, and the built-in speakers may not provide the best sound quality for those who prefer something more substantial. However, with a 4.4 out of 5-star rating on Best Buy, many users praise its picture quality and value for money.\\n\\nIf you're looking for an even more affordable option, check out the TCL 55\\\" Class 4-Series LED 4K UHD Smart Android TV (55S434) available on Best Buy for approximately $200. It has excellent picture quality and brightness, making it a fantastic budget option. The con is the remote control, but other than that, it's a solid choice.\\n\\nFinally, if you're willing to splurge, the TCL 55\\\" 4K UHD Smart TV (55R646) offers strong performance with excellent contrast, color accuracy, and all major streaming apps, including Google Cast and hands-free Google Assistant. The downside is that some users have reported software instability, but TCL has released updates to address this issue.\\n\\nIn conclusion, the TCL 55\\\" Class 4-Series 4K UHD Smart Roku TV and the TCL 55\\\" Class 4-Series LED 4K UHD Smart Android TV are both excellent budget options. The TCL 55\\\" 4K UHD Smart TV (55R646) is a premium model with strong performance and features, but it has had some issues with software stability. Whatever you choose, you can't go wrong with TCL!\"\n",
        "        },\n",
        "        {\n",
        "            \"model\": \"gemma-7b-it\",\n",
        "            \"completion\": \"## Content Creator Social Media Pitch: TCL 55\\\" 4K UHD Smart TVs\\n\\n**Hey there, content creators!** 📺\\n\\nEver wanted to upgrade your entertainment game without breaking the bank? Look no further than the amazing TCL 55\\\" 4K UHD Smart TVs! 🤯\\n\\n**Here's what you need to know:**\\n\\n**✅ Budget-friendly bliss:** Get incredible 4K picture and fantastic brightness for under $363! 🤯\\n**✅ Entertainment central:** Enjoy all your favorite streaming apps like Netflix, Hulu, and HBO Max right out of the box. 🍿\\n**✅ Smart as can be:** The Roku OS is super easy to navigate and control. 🔥\\n\\n**But that's not all!** There are even more reasons to love these TCL TVs:\\n\\n- **Excellent contrast and color accuracy** for super realistic picture quality. 🌈\\n- **Dedicated gaming features** like 120Hz refresh rate and VRR for next-level gaming. 🎮\\n- **Free software updates** to keep things fresh and secure. 🛡️\\n\\n**And get this:** TCL offers two different models to fit your needs and budget. 🤑\\n\\n- **TCL 55\\\" 4K UHD Smart Roku TV:** Great for those who want a budget-friendly 4K TV with fantastic picture quality. \\n- **TCL 55\\\" 4K UHD Smart Android TV:** Offers more features and Google Assistant for a slightly higher price.\\n\\n**So why wait?** Upgrade your entertainment experience with a TCL 55\\\" 4K UHD Smart TV today and start streaming, gaming, and enjoying your favorite shows in stunning detail! 🤩\\n\\n**Click the link in my bio to learn more and snag an awesome deal!** ➡️ [Insert Link]\\n\\n**Don't forget to tag @TCLTV in your posts and use the hashtag #TCLLife for a chance to be featured!** ✨\\n\\n**#TVReview #SmartTV #BudgetGaming #EntertainmentBoost #TCLLife**\"\n",
        "        },\n",
        "        {\n",
        "            \"model\": \"gpt_4\",\n",
        "            \"completion\": \"Friends, welcome back! Life is all about experiences, right? And while we’re at it, why not experience the best in visual entertainment? I have three stunning products here that are transforming couch-potato life as we know it. Shout-out to all those 4K enthusiasts and streamaholics out there, today we're talking about some breakthrough TVs from TCL!\\n\\nFirst up, TCL's 55” Class 4-Series 4K UHD Smart Roku TV. Priced at an attractive $363.01 with an impressive 4.4 stars rating to its credit, this smart TV is a contemporary classic. Ultra HD picture quality, top streaming apps, and an easy-to-use Roku interface - it's got it all. It might not have the best remote control or built-in speakers, but this creature of value is an undeniable game changer - all that for the price of regular dinner outings!\\n\\nNext, we have TCL's other variant, the 55\\\" Class 4-Series LED 4K UHD Smart Android TV. Priced at around $200, this gem is an absolute steal! The product offers an incredible balance between picture quality and affordability—a true testimony to TCL's innovation. Same pros, same gripes with the remote and speakers, but boy, that price point is just too irresistible!\\n\\nLastly, for the perfectionists out there, we've got a premium treat: TCL 55\\\" 4K UHD Smart TV (55R646). This higher-end 55\\\" beauty not only provides excellent contrast and color accuracy, but also unique gaming features with a 120Hz refresh rate, VRR support, and a full Google ecosystem. Priced at $949.99, it's for those unwilling to compromise on vision. Although plagued by some software stability issues in the past, it seems like TCL is addressing these diligently.\\n\\nSo folks, today I talked about three products that prove quality does not necessarily drive up prices. Whether you're a value buyer or a gaming enthusiast, I hope we've thrown some light on TCL's range that's been disrupting the 4K market. As always, pick what works best for your needs and budget. Until next time - keep streaming, keep experiencing!\"\n",
        "        }\n",
        "    ]\n",
        "}"
      ],
      "metadata": {
        "id": "em1enMo1uwLz"
      },
      "execution_count": 9,
      "outputs": []
    },
    {
      "cell_type": "code",
      "source": [
        "age_category = (25, 35)"
      ],
      "metadata": {
        "id": "SlEHNZMvuyv8"
      },
      "execution_count": 5,
      "outputs": []
    },
    {
      "cell_type": "code",
      "source": [
        "PROFESSIONS = [\"teacher\", \"barber\", \"dancer\", \"engineer\", \"doctor\", \"artist\", \"chef\", \"writer\", \"nurse\", \"lawyer\", \"musician\", \"actor\", \"scientist\", \"pilot\",\"student\"]\n"
      ],
      "metadata": {
        "id": "7gFMC4Pmu0xS"
      },
      "execution_count": 6,
      "outputs": []
    },
    {
      "cell_type": "code",
      "source": [
        "client1 = AsyncClient(api_key=os.getenv(\"OPENAI_API_KEY_Tirth\"))\n",
        "client2 = AsyncGroq(api_key=os.getenv(\"GROQ_API_KEY1\"))\n",
        "client3 = AsyncGroq(api_key=os.getenv(\"GROQ_API_KEY2\"))\n",
        "client4 = AsyncGroq(api_key=os.getenv(\"GROQ_API_KEY3\"))\n",
        "client5 = AsyncGroq(api_key=os.getenv(\"GROQ_API_KEY4\"))\n",
        "client6 = AsyncGroq(api_key=os.getenv(\"GROQ_API_KEY_TIRTH\"))\n",
        "client7 = AsyncGroq(api_key=os.getenv(\"GROQ_API_KEY_TIRTH_2\"))\n",
        "client8 = AsyncGroq(api_key=os.getenv(\"GROQ_API_KEY_THARAN\"))\n"
      ],
      "metadata": {
        "id": "B1UOlWFwZkNo"
      },
      "execution_count": 11,
      "outputs": []
    },
    {
      "cell_type": "code",
      "source": [
        "nest_asyncio.apply()"
      ],
      "metadata": {
        "id": "hKTeBTddu6YS"
      },
      "execution_count": 12,
      "outputs": []
    },
    {
      "cell_type": "code",
      "source": [
        "async def get_response_from_llm(client, model, pitch, age, profession):\n",
        "    response = await client.chat.completions.create(\n",
        "        model= model,\n",
        "        messages=[\n",
        "            {\n",
        "                \"role\": \"system\",\n",
        "                \"content\": f\"You are a {age}-year-old {profession}. The following is a marketing pitch: '{pitch}'. Would you buy this product? Please respond with 'Yes' or 'No' and explain why.\"\n",
        "            }\n",
        "        ],\n",
        "        temperature=1,\n",
        "        max_tokens=50,\n",
        "        top_p=1,\n",
        "        stream=False\n",
        "    )\n",
        "    text_response = response.choices[0].message.content.strip().lower()\n",
        "    return \"yes\" in text_response"
      ],
      "metadata": {
        "id": "w3emk2_gu90h"
      },
      "execution_count": 13,
      "outputs": []
    },
    {
      "cell_type": "code",
      "source": [
        "llms = ['gpt-4o','llama3-70b-8192', 'llama-guard-3-8b', 'llama-3.1-8b-instant', 'gemma2-9b-it','mixtral-8x7b-32768', 'llama-3.1-70b-versatile','gemma-7b-it' ]"
      ],
      "metadata": {
        "id": "kp6D_abiu_aa"
      },
      "execution_count": 18,
      "outputs": []
    },
    {
      "cell_type": "code",
      "source": [
        "len(llms)"
      ],
      "metadata": {
        "colab": {
          "base_uri": "https://localhost:8080/"
        },
        "id": "uxdANx5Qa1Ev",
        "outputId": "2e873e86-72d5-4049-80b2-9a728aebc3be"
      },
      "execution_count": 19,
      "outputs": [
        {
          "output_type": "execute_result",
          "data": {
            "text/plain": [
              "8"
            ]
          },
          "metadata": {},
          "execution_count": 19
        }
      ]
    },
    {
      "cell_type": "code",
      "source": [
        "clients = [ client1,client2,client3,client4,client5,client6,client7,client8]\n"
      ],
      "metadata": {
        "id": "WXdbAQjFv_S0"
      },
      "execution_count": 20,
      "outputs": []
    },
    {
      "cell_type": "code",
      "source": [
        "print(len(clients))"
      ],
      "metadata": {
        "colab": {
          "base_uri": "https://localhost:8080/"
        },
        "id": "a3xlgpj8a5em",
        "outputId": "71991535-094a-4cc1-a76b-3e6b8d3edf74"
      },
      "execution_count": 21,
      "outputs": [
        {
          "output_type": "stream",
          "name": "stdout",
          "text": [
            "8\n"
          ]
        }
      ]
    },
    {
      "cell_type": "code",
      "source": [
        "def create_audience_member(age_category, professions,count, llms, clients):\n",
        "    age = random.randint(age_category[0], age_category[1])\n",
        "    profession = random.choice(professions)\n",
        "    temp = count%8\n",
        "    if temp == 0:\n",
        "      llm = llms[0]\n",
        "    else:\n",
        "      llm = llms[random.randint(1,7)]\n",
        "    client = clients[temp]\n",
        "    return {\n",
        "        \"age\": age,\n",
        "        \"profession\": profession,\n",
        "        \"llm\": llm,\n",
        "        \"client\": client\n",
        "    }"
      ],
      "metadata": {
        "id": "6MUUeP9Qxasn"
      },
      "execution_count": 30,
      "outputs": []
    },
    {
      "cell_type": "code",
      "source": [
        "def create_audience(num_people, age_category, professions,llms,clients):\n",
        "    return [create_audience_member(age_category, professions,i,llms,clients) for i in range(num_people)]"
      ],
      "metadata": {
        "id": "qRcGrCsvyAuJ"
      },
      "execution_count": 31,
      "outputs": []
    },
    {
      "cell_type": "code",
      "source": [
        "audience = create_audience(100, age_category, PROFESSIONS, llms, clients)"
      ],
      "metadata": {
        "id": "9htnEJQcdFAO"
      },
      "execution_count": 38,
      "outputs": []
    },
    {
      "cell_type": "code",
      "source": [
        "print(audience)"
      ],
      "metadata": {
        "colab": {
          "base_uri": "https://localhost:8080/"
        },
        "id": "d8kCoCFudJcZ",
        "outputId": "c4ca14ce-9f01-4b83-ce32-5e260ddf932f"
      },
      "execution_count": 39,
      "outputs": [
        {
          "output_type": "stream",
          "name": "stdout",
          "text": [
            "[{'age': 26, 'profession': 'scientist', 'llm': 'gpt-4o', 'client': <openai.AsyncOpenAI object at 0x7f41dbedb310>}, {'age': 28, 'profession': 'musician', 'llm': 'gemma-7b-it', 'client': <groq.AsyncGroq object at 0x7f41dbedbe80>}, {'age': 30, 'profession': 'dancer', 'llm': 'llama3-70b-8192', 'client': <groq.AsyncGroq object at 0x7f41dbedb9a0>}, {'age': 34, 'profession': 'pilot', 'llm': 'llama-guard-3-8b', 'client': <groq.AsyncGroq object at 0x7f41db34ab90>}, {'age': 31, 'profession': 'student', 'llm': 'gemma2-9b-it', 'client': <groq.AsyncGroq object at 0x7f41db34b7f0>}, {'age': 30, 'profession': 'actor', 'llm': 'mixtral-8x7b-32768', 'client': <groq.AsyncGroq object at 0x7f41db34b850>}, {'age': 32, 'profession': 'doctor', 'llm': 'llama-guard-3-8b', 'client': <groq.AsyncGroq object at 0x7f41db3651b0>}, {'age': 31, 'profession': 'artist', 'llm': 'llama-guard-3-8b', 'client': <groq.AsyncGroq object at 0x7f41db365e40>}, {'age': 25, 'profession': 'student', 'llm': 'gpt-4o', 'client': <openai.AsyncOpenAI object at 0x7f41dbedb310>}, {'age': 31, 'profession': 'lawyer', 'llm': 'llama-guard-3-8b', 'client': <groq.AsyncGroq object at 0x7f41dbedbe80>}, {'age': 26, 'profession': 'student', 'llm': 'llama3-70b-8192', 'client': <groq.AsyncGroq object at 0x7f41dbedb9a0>}, {'age': 35, 'profession': 'chef', 'llm': 'llama-3.1-8b-instant', 'client': <groq.AsyncGroq object at 0x7f41db34ab90>}, {'age': 29, 'profession': 'teacher', 'llm': 'gemma2-9b-it', 'client': <groq.AsyncGroq object at 0x7f41db34b7f0>}, {'age': 32, 'profession': 'scientist', 'llm': 'llama3-70b-8192', 'client': <groq.AsyncGroq object at 0x7f41db34b850>}, {'age': 34, 'profession': 'barber', 'llm': 'gemma-7b-it', 'client': <groq.AsyncGroq object at 0x7f41db3651b0>}, {'age': 26, 'profession': 'actor', 'llm': 'gemma2-9b-it', 'client': <groq.AsyncGroq object at 0x7f41db365e40>}, {'age': 31, 'profession': 'dancer', 'llm': 'gpt-4o', 'client': <openai.AsyncOpenAI object at 0x7f41dbedb310>}, {'age': 28, 'profession': 'nurse', 'llm': 'gemma2-9b-it', 'client': <groq.AsyncGroq object at 0x7f41dbedbe80>}, {'age': 31, 'profession': 'chef', 'llm': 'llama3-70b-8192', 'client': <groq.AsyncGroq object at 0x7f41dbedb9a0>}, {'age': 26, 'profession': 'engineer', 'llm': 'llama-3.1-70b-versatile', 'client': <groq.AsyncGroq object at 0x7f41db34ab90>}, {'age': 29, 'profession': 'musician', 'llm': 'llama-guard-3-8b', 'client': <groq.AsyncGroq object at 0x7f41db34b7f0>}, {'age': 28, 'profession': 'actor', 'llm': 'llama-3.1-70b-versatile', 'client': <groq.AsyncGroq object at 0x7f41db34b850>}, {'age': 35, 'profession': 'teacher', 'llm': 'llama-guard-3-8b', 'client': <groq.AsyncGroq object at 0x7f41db3651b0>}, {'age': 32, 'profession': 'dancer', 'llm': 'gemma2-9b-it', 'client': <groq.AsyncGroq object at 0x7f41db365e40>}, {'age': 27, 'profession': 'teacher', 'llm': 'gpt-4o', 'client': <openai.AsyncOpenAI object at 0x7f41dbedb310>}, {'age': 30, 'profession': 'actor', 'llm': 'gemma-7b-it', 'client': <groq.AsyncGroq object at 0x7f41dbedbe80>}, {'age': 32, 'profession': 'student', 'llm': 'llama-3.1-70b-versatile', 'client': <groq.AsyncGroq object at 0x7f41dbedb9a0>}, {'age': 30, 'profession': 'actor', 'llm': 'llama-guard-3-8b', 'client': <groq.AsyncGroq object at 0x7f41db34ab90>}, {'age': 25, 'profession': 'artist', 'llm': 'llama-guard-3-8b', 'client': <groq.AsyncGroq object at 0x7f41db34b7f0>}, {'age': 30, 'profession': 'writer', 'llm': 'llama-guard-3-8b', 'client': <groq.AsyncGroq object at 0x7f41db34b850>}, {'age': 30, 'profession': 'pilot', 'llm': 'llama-3.1-70b-versatile', 'client': <groq.AsyncGroq object at 0x7f41db3651b0>}, {'age': 32, 'profession': 'lawyer', 'llm': 'gemma-7b-it', 'client': <groq.AsyncGroq object at 0x7f41db365e40>}, {'age': 29, 'profession': 'pilot', 'llm': 'gpt-4o', 'client': <openai.AsyncOpenAI object at 0x7f41dbedb310>}, {'age': 30, 'profession': 'student', 'llm': 'llama3-70b-8192', 'client': <groq.AsyncGroq object at 0x7f41dbedbe80>}, {'age': 29, 'profession': 'actor', 'llm': 'mixtral-8x7b-32768', 'client': <groq.AsyncGroq object at 0x7f41dbedb9a0>}, {'age': 34, 'profession': 'nurse', 'llm': 'gemma-7b-it', 'client': <groq.AsyncGroq object at 0x7f41db34ab90>}, {'age': 29, 'profession': 'barber', 'llm': 'mixtral-8x7b-32768', 'client': <groq.AsyncGroq object at 0x7f41db34b7f0>}, {'age': 28, 'profession': 'writer', 'llm': 'llama3-70b-8192', 'client': <groq.AsyncGroq object at 0x7f41db34b850>}, {'age': 27, 'profession': 'artist', 'llm': 'llama-3.1-70b-versatile', 'client': <groq.AsyncGroq object at 0x7f41db3651b0>}, {'age': 32, 'profession': 'engineer', 'llm': 'gemma-7b-it', 'client': <groq.AsyncGroq object at 0x7f41db365e40>}, {'age': 29, 'profession': 'writer', 'llm': 'gpt-4o', 'client': <openai.AsyncOpenAI object at 0x7f41dbedb310>}, {'age': 30, 'profession': 'artist', 'llm': 'llama-3.1-70b-versatile', 'client': <groq.AsyncGroq object at 0x7f41dbedbe80>}, {'age': 31, 'profession': 'musician', 'llm': 'llama-3.1-8b-instant', 'client': <groq.AsyncGroq object at 0x7f41dbedb9a0>}, {'age': 27, 'profession': 'lawyer', 'llm': 'mixtral-8x7b-32768', 'client': <groq.AsyncGroq object at 0x7f41db34ab90>}, {'age': 32, 'profession': 'nurse', 'llm': 'mixtral-8x7b-32768', 'client': <groq.AsyncGroq object at 0x7f41db34b7f0>}, {'age': 33, 'profession': 'writer', 'llm': 'llama-3.1-70b-versatile', 'client': <groq.AsyncGroq object at 0x7f41db34b850>}, {'age': 33, 'profession': 'nurse', 'llm': 'mixtral-8x7b-32768', 'client': <groq.AsyncGroq object at 0x7f41db3651b0>}, {'age': 34, 'profession': 'pilot', 'llm': 'gemma2-9b-it', 'client': <groq.AsyncGroq object at 0x7f41db365e40>}, {'age': 28, 'profession': 'nurse', 'llm': 'gpt-4o', 'client': <openai.AsyncOpenAI object at 0x7f41dbedb310>}, {'age': 28, 'profession': 'scientist', 'llm': 'llama-3.1-8b-instant', 'client': <groq.AsyncGroq object at 0x7f41dbedbe80>}, {'age': 29, 'profession': 'teacher', 'llm': 'llama3-70b-8192', 'client': <groq.AsyncGroq object at 0x7f41dbedb9a0>}, {'age': 31, 'profession': 'student', 'llm': 'llama-3.1-8b-instant', 'client': <groq.AsyncGroq object at 0x7f41db34ab90>}, {'age': 29, 'profession': 'dancer', 'llm': 'llama-3.1-8b-instant', 'client': <groq.AsyncGroq object at 0x7f41db34b7f0>}, {'age': 27, 'profession': 'chef', 'llm': 'gemma2-9b-it', 'client': <groq.AsyncGroq object at 0x7f41db34b850>}, {'age': 28, 'profession': 'doctor', 'llm': 'llama3-70b-8192', 'client': <groq.AsyncGroq object at 0x7f41db3651b0>}, {'age': 35, 'profession': 'musician', 'llm': 'llama-3.1-70b-versatile', 'client': <groq.AsyncGroq object at 0x7f41db365e40>}, {'age': 29, 'profession': 'student', 'llm': 'gpt-4o', 'client': <openai.AsyncOpenAI object at 0x7f41dbedb310>}, {'age': 25, 'profession': 'writer', 'llm': 'llama-guard-3-8b', 'client': <groq.AsyncGroq object at 0x7f41dbedbe80>}, {'age': 25, 'profession': 'actor', 'llm': 'llama-3.1-8b-instant', 'client': <groq.AsyncGroq object at 0x7f41dbedb9a0>}, {'age': 26, 'profession': 'artist', 'llm': 'gemma-7b-it', 'client': <groq.AsyncGroq object at 0x7f41db34ab90>}, {'age': 35, 'profession': 'dancer', 'llm': 'llama-3.1-70b-versatile', 'client': <groq.AsyncGroq object at 0x7f41db34b7f0>}, {'age': 27, 'profession': 'actor', 'llm': 'llama3-70b-8192', 'client': <groq.AsyncGroq object at 0x7f41db34b850>}, {'age': 26, 'profession': 'pilot', 'llm': 'llama-3.1-70b-versatile', 'client': <groq.AsyncGroq object at 0x7f41db3651b0>}, {'age': 34, 'profession': 'actor', 'llm': 'llama-3.1-8b-instant', 'client': <groq.AsyncGroq object at 0x7f41db365e40>}, {'age': 33, 'profession': 'student', 'llm': 'gpt-4o', 'client': <openai.AsyncOpenAI object at 0x7f41dbedb310>}, {'age': 25, 'profession': 'teacher', 'llm': 'llama-3.1-8b-instant', 'client': <groq.AsyncGroq object at 0x7f41dbedbe80>}, {'age': 28, 'profession': 'dancer', 'llm': 'gemma2-9b-it', 'client': <groq.AsyncGroq object at 0x7f41dbedb9a0>}, {'age': 29, 'profession': 'pilot', 'llm': 'llama-3.1-8b-instant', 'client': <groq.AsyncGroq object at 0x7f41db34ab90>}, {'age': 27, 'profession': 'writer', 'llm': 'gemma2-9b-it', 'client': <groq.AsyncGroq object at 0x7f41db34b7f0>}, {'age': 34, 'profession': 'actor', 'llm': 'llama-3.1-70b-versatile', 'client': <groq.AsyncGroq object at 0x7f41db34b850>}, {'age': 27, 'profession': 'barber', 'llm': 'llama-guard-3-8b', 'client': <groq.AsyncGroq object at 0x7f41db3651b0>}, {'age': 33, 'profession': 'dancer', 'llm': 'gemma2-9b-it', 'client': <groq.AsyncGroq object at 0x7f41db365e40>}, {'age': 34, 'profession': 'doctor', 'llm': 'gpt-4o', 'client': <openai.AsyncOpenAI object at 0x7f41dbedb310>}, {'age': 34, 'profession': 'artist', 'llm': 'llama-3.1-8b-instant', 'client': <groq.AsyncGroq object at 0x7f41dbedbe80>}, {'age': 32, 'profession': 'pilot', 'llm': 'llama-guard-3-8b', 'client': <groq.AsyncGroq object at 0x7f41dbedb9a0>}, {'age': 32, 'profession': 'dancer', 'llm': 'gemma-7b-it', 'client': <groq.AsyncGroq object at 0x7f41db34ab90>}, {'age': 31, 'profession': 'artist', 'llm': 'gemma2-9b-it', 'client': <groq.AsyncGroq object at 0x7f41db34b7f0>}, {'age': 30, 'profession': 'chef', 'llm': 'gemma-7b-it', 'client': <groq.AsyncGroq object at 0x7f41db34b850>}, {'age': 27, 'profession': 'scientist', 'llm': 'llama-3.1-8b-instant', 'client': <groq.AsyncGroq object at 0x7f41db3651b0>}, {'age': 27, 'profession': 'barber', 'llm': 'llama-guard-3-8b', 'client': <groq.AsyncGroq object at 0x7f41db365e40>}, {'age': 26, 'profession': 'doctor', 'llm': 'gpt-4o', 'client': <openai.AsyncOpenAI object at 0x7f41dbedb310>}, {'age': 26, 'profession': 'engineer', 'llm': 'gemma2-9b-it', 'client': <groq.AsyncGroq object at 0x7f41dbedbe80>}, {'age': 34, 'profession': 'engineer', 'llm': 'llama-3.1-70b-versatile', 'client': <groq.AsyncGroq object at 0x7f41dbedb9a0>}, {'age': 30, 'profession': 'lawyer', 'llm': 'llama-3.1-70b-versatile', 'client': <groq.AsyncGroq object at 0x7f41db34ab90>}, {'age': 29, 'profession': 'artist', 'llm': 'llama-guard-3-8b', 'client': <groq.AsyncGroq object at 0x7f41db34b7f0>}, {'age': 27, 'profession': 'chef', 'llm': 'llama-3.1-70b-versatile', 'client': <groq.AsyncGroq object at 0x7f41db34b850>}, {'age': 29, 'profession': 'student', 'llm': 'llama-3.1-8b-instant', 'client': <groq.AsyncGroq object at 0x7f41db3651b0>}, {'age': 28, 'profession': 'actor', 'llm': 'gemma-7b-it', 'client': <groq.AsyncGroq object at 0x7f41db365e40>}, {'age': 34, 'profession': 'engineer', 'llm': 'gpt-4o', 'client': <openai.AsyncOpenAI object at 0x7f41dbedb310>}, {'age': 27, 'profession': 'barber', 'llm': 'llama-3.1-8b-instant', 'client': <groq.AsyncGroq object at 0x7f41dbedbe80>}, {'age': 26, 'profession': 'scientist', 'llm': 'llama-3.1-70b-versatile', 'client': <groq.AsyncGroq object at 0x7f41dbedb9a0>}, {'age': 30, 'profession': 'teacher', 'llm': 'mixtral-8x7b-32768', 'client': <groq.AsyncGroq object at 0x7f41db34ab90>}, {'age': 30, 'profession': 'musician', 'llm': 'llama-guard-3-8b', 'client': <groq.AsyncGroq object at 0x7f41db34b7f0>}, {'age': 25, 'profession': 'writer', 'llm': 'gemma-7b-it', 'client': <groq.AsyncGroq object at 0x7f41db34b850>}, {'age': 34, 'profession': 'actor', 'llm': 'llama-guard-3-8b', 'client': <groq.AsyncGroq object at 0x7f41db3651b0>}, {'age': 27, 'profession': 'scientist', 'llm': 'gemma2-9b-it', 'client': <groq.AsyncGroq object at 0x7f41db365e40>}, {'age': 33, 'profession': 'student', 'llm': 'gpt-4o', 'client': <openai.AsyncOpenAI object at 0x7f41dbedb310>}, {'age': 26, 'profession': 'musician', 'llm': 'llama-guard-3-8b', 'client': <groq.AsyncGroq object at 0x7f41dbedbe80>}, {'age': 28, 'profession': 'scientist', 'llm': 'llama-3.1-70b-versatile', 'client': <groq.AsyncGroq object at 0x7f41dbedb9a0>}, {'age': 35, 'profession': 'engineer', 'llm': 'llama-3.1-70b-versatile', 'client': <groq.AsyncGroq object at 0x7f41db34ab90>}]\n"
          ]
        }
      ]
    },
    {
      "cell_type": "code",
      "source": [
        "# Get the response from the audience\n",
        "async def get_audience_responses(audience, pitch):\n",
        "    tasks = []\n",
        "    for person in audience:\n",
        "        age = person['age']\n",
        "        profession = person['profession']\n",
        "        llm = person['llm']\n",
        "        client = person['client']\n",
        "        tasks.append(get_response_from_llm(client, llm, pitch, age, profession))\n",
        "    results = await asyncio.gather(*tasks)\n",
        "\n",
        "    # Combine the results with audience details\n",
        "    responses = [dict(person, response=result) for person, result in zip(audience, results)]\n",
        "    return responses"
      ],
      "metadata": {
        "id": "13oBAVEeyFp_"
      },
      "execution_count": 40,
      "outputs": []
    },
    {
      "cell_type": "code",
      "source": [
        "async def gather_response(data):\n",
        "  final_output = []\n",
        "  for response in data['model_responses']:\n",
        "    model = response['model']\n",
        "    marketing_pitch = response['completion']\n",
        "    print(f\"Evaluating pitch for model: {model}\")\n",
        "    audience_responses = await get_audience_responses(audience, marketing_pitch)\n",
        "    # Analyze the results\n",
        "    true_count = sum(1 for response in audience_responses if response['response'] == True)\n",
        "    false_count = len(audience_responses) - true_count\n",
        "    # Output the results\n",
        "    print(f\"Number of people who would buy the product: {true_count}\")\n",
        "    print(f\"Number of people who would not buy the product: {false_count}\")\n",
        "    final_output.append(audience_responses)\n",
        "  return final_output\n",
        "    # # Optional: Print detailed responses\n",
        "    # for response in audience_responses:\n",
        "    #     print(f\"Age: {response['age']}, Profession: {response['profession']}, Would Buy: {response['response']}\")"
      ],
      "metadata": {
        "id": "o9zxbegeyl_e"
      },
      "execution_count": 41,
      "outputs": []
    },
    {
      "cell_type": "code",
      "source": [
        "final_output = asyncio.run(gather_response(data))"
      ],
      "metadata": {
        "colab": {
          "base_uri": "https://localhost:8080/"
        },
        "id": "EaSTiEbsyuYp",
        "outputId": "501ca453-3d6f-400a-f7f1-ea7f11eafedb"
      },
      "execution_count": 42,
      "outputs": [
        {
          "output_type": "stream",
          "name": "stdout",
          "text": [
            "Evaluating pitch for model: llama3-8b-8192\n",
            "Number of people who would buy the product: 22\n",
            "Number of people who would not buy the product: 78\n",
            "Evaluating pitch for model: mixtral-8x7b-32768\n",
            "Number of people who would buy the product: 38\n",
            "Number of people who would not buy the product: 62\n",
            "Evaluating pitch for model: gemma-7b-it\n",
            "Number of people who would buy the product: 57\n",
            "Number of people who would not buy the product: 43\n",
            "Evaluating pitch for model: gpt_4\n",
            "Number of people who would buy the product: 39\n",
            "Number of people who would not buy the product: 61\n"
          ]
        }
      ]
    }
  ]
}