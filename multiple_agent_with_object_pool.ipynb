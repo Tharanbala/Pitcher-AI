{
  "nbformat": 4,
  "nbformat_minor": 0,
  "metadata": {
    "colab": {
      "provenance": [],
      "authorship_tag": "ABX9TyOLbylecw6O1uy7H/1L1nIj",
      "include_colab_link": true
    },
    "kernelspec": {
      "name": "python3",
      "display_name": "Python 3"
    },
    "language_info": {
      "name": "python"
    }
  },
  "cells": [
    {
      "cell_type": "markdown",
      "metadata": {
        "id": "view-in-github",
        "colab_type": "text"
      },
      "source": [
        "<a href=\"https://colab.research.google.com/github/Tharanbala/Pitcher-AI/blob/tirth_backend/multiple_agent_with_object_pool.ipynb\" target=\"_parent\"><img src=\"https://colab.research.google.com/assets/colab-badge.svg\" alt=\"Open In Colab\"/></a>"
      ]
    },
    {
      "cell_type": "code",
      "execution_count": 4,
      "metadata": {
        "id": "t6vBH6QDsVKq",
        "colab": {
          "base_uri": "https://localhost:8080/"
        },
        "outputId": "41cd4dae-f793-4c30-adda-b7251190d221"
      },
      "outputs": [
        {
          "output_type": "stream",
          "name": "stdout",
          "text": [
            "Collecting python-dotenv\n",
            "  Downloading python_dotenv-1.0.1-py3-none-any.whl.metadata (23 kB)\n",
            "Downloading python_dotenv-1.0.1-py3-none-any.whl (19 kB)\n",
            "Installing collected packages: python-dotenv\n",
            "Successfully installed python-dotenv-1.0.1\n",
            "Collecting groq\n",
            "  Downloading groq-0.11.0-py3-none-any.whl.metadata (13 kB)\n",
            "Requirement already satisfied: anyio<5,>=3.5.0 in /usr/local/lib/python3.10/dist-packages (from groq) (3.7.1)\n",
            "Requirement already satisfied: distro<2,>=1.7.0 in /usr/lib/python3/dist-packages (from groq) (1.7.0)\n",
            "Collecting httpx<1,>=0.23.0 (from groq)\n",
            "  Downloading httpx-0.27.2-py3-none-any.whl.metadata (7.1 kB)\n",
            "Requirement already satisfied: pydantic<3,>=1.9.0 in /usr/local/lib/python3.10/dist-packages (from groq) (2.8.2)\n",
            "Requirement already satisfied: sniffio in /usr/local/lib/python3.10/dist-packages (from groq) (1.3.1)\n",
            "Requirement already satisfied: typing-extensions<5,>=4.7 in /usr/local/lib/python3.10/dist-packages (from groq) (4.12.2)\n",
            "Requirement already satisfied: idna>=2.8 in /usr/local/lib/python3.10/dist-packages (from anyio<5,>=3.5.0->groq) (3.8)\n",
            "Requirement already satisfied: exceptiongroup in /usr/local/lib/python3.10/dist-packages (from anyio<5,>=3.5.0->groq) (1.2.2)\n",
            "Requirement already satisfied: certifi in /usr/local/lib/python3.10/dist-packages (from httpx<1,>=0.23.0->groq) (2024.8.30)\n",
            "Collecting httpcore==1.* (from httpx<1,>=0.23.0->groq)\n",
            "  Downloading httpcore-1.0.5-py3-none-any.whl.metadata (20 kB)\n",
            "Collecting h11<0.15,>=0.13 (from httpcore==1.*->httpx<1,>=0.23.0->groq)\n",
            "  Downloading h11-0.14.0-py3-none-any.whl.metadata (8.2 kB)\n",
            "Requirement already satisfied: annotated-types>=0.4.0 in /usr/local/lib/python3.10/dist-packages (from pydantic<3,>=1.9.0->groq) (0.7.0)\n",
            "Requirement already satisfied: pydantic-core==2.20.1 in /usr/local/lib/python3.10/dist-packages (from pydantic<3,>=1.9.0->groq) (2.20.1)\n",
            "Downloading groq-0.11.0-py3-none-any.whl (106 kB)\n",
            "\u001b[2K   \u001b[90m━━━━━━━━━━━━━━━━━━━━━━━━━━━━━━━━━━━━━━━━\u001b[0m \u001b[32m106.5/106.5 kB\u001b[0m \u001b[31m3.7 MB/s\u001b[0m eta \u001b[36m0:00:00\u001b[0m\n",
            "\u001b[?25hDownloading httpx-0.27.2-py3-none-any.whl (76 kB)\n",
            "\u001b[2K   \u001b[90m━━━━━━━━━━━━━━━━━━━━━━━━━━━━━━━━━━━━━━━━\u001b[0m \u001b[32m76.4/76.4 kB\u001b[0m \u001b[31m6.1 MB/s\u001b[0m eta \u001b[36m0:00:00\u001b[0m\n",
            "\u001b[?25hDownloading httpcore-1.0.5-py3-none-any.whl (77 kB)\n",
            "\u001b[2K   \u001b[90m━━━━━━━━━━━━━━━━━━━━━━━━━━━━━━━━━━━━━━━━\u001b[0m \u001b[32m77.9/77.9 kB\u001b[0m \u001b[31m6.2 MB/s\u001b[0m eta \u001b[36m0:00:00\u001b[0m\n",
            "\u001b[?25hDownloading h11-0.14.0-py3-none-any.whl (58 kB)\n",
            "\u001b[2K   \u001b[90m━━━━━━━━━━━━━━━━━━━━━━━━━━━━━━━━━━━━━━━━\u001b[0m \u001b[32m58.3/58.3 kB\u001b[0m \u001b[31m4.0 MB/s\u001b[0m eta \u001b[36m0:00:00\u001b[0m\n",
            "\u001b[?25hInstalling collected packages: h11, httpcore, httpx, groq\n",
            "Successfully installed groq-0.11.0 h11-0.14.0 httpcore-1.0.5 httpx-0.27.2\n",
            "Collecting openai\n",
            "  Downloading openai-1.43.0-py3-none-any.whl.metadata (22 kB)\n",
            "Requirement already satisfied: anyio<5,>=3.5.0 in /usr/local/lib/python3.10/dist-packages (from openai) (3.7.1)\n",
            "Requirement already satisfied: distro<2,>=1.7.0 in /usr/lib/python3/dist-packages (from openai) (1.7.0)\n",
            "Requirement already satisfied: httpx<1,>=0.23.0 in /usr/local/lib/python3.10/dist-packages (from openai) (0.27.2)\n",
            "Collecting jiter<1,>=0.4.0 (from openai)\n",
            "  Downloading jiter-0.5.0-cp310-cp310-manylinux_2_17_x86_64.manylinux2014_x86_64.whl.metadata (3.6 kB)\n",
            "Requirement already satisfied: pydantic<3,>=1.9.0 in /usr/local/lib/python3.10/dist-packages (from openai) (2.8.2)\n",
            "Requirement already satisfied: sniffio in /usr/local/lib/python3.10/dist-packages (from openai) (1.3.1)\n",
            "Requirement already satisfied: tqdm>4 in /usr/local/lib/python3.10/dist-packages (from openai) (4.66.5)\n",
            "Requirement already satisfied: typing-extensions<5,>=4.11 in /usr/local/lib/python3.10/dist-packages (from openai) (4.12.2)\n",
            "Requirement already satisfied: idna>=2.8 in /usr/local/lib/python3.10/dist-packages (from anyio<5,>=3.5.0->openai) (3.8)\n",
            "Requirement already satisfied: exceptiongroup in /usr/local/lib/python3.10/dist-packages (from anyio<5,>=3.5.0->openai) (1.2.2)\n",
            "Requirement already satisfied: certifi in /usr/local/lib/python3.10/dist-packages (from httpx<1,>=0.23.0->openai) (2024.8.30)\n",
            "Requirement already satisfied: httpcore==1.* in /usr/local/lib/python3.10/dist-packages (from httpx<1,>=0.23.0->openai) (1.0.5)\n",
            "Requirement already satisfied: h11<0.15,>=0.13 in /usr/local/lib/python3.10/dist-packages (from httpcore==1.*->httpx<1,>=0.23.0->openai) (0.14.0)\n",
            "Requirement already satisfied: annotated-types>=0.4.0 in /usr/local/lib/python3.10/dist-packages (from pydantic<3,>=1.9.0->openai) (0.7.0)\n",
            "Requirement already satisfied: pydantic-core==2.20.1 in /usr/local/lib/python3.10/dist-packages (from pydantic<3,>=1.9.0->openai) (2.20.1)\n",
            "Downloading openai-1.43.0-py3-none-any.whl (365 kB)\n",
            "\u001b[2K   \u001b[90m━━━━━━━━━━━━━━━━━━━━━━━━━━━━━━━━━━━━━━━━\u001b[0m \u001b[32m365.7/365.7 kB\u001b[0m \u001b[31m7.0 MB/s\u001b[0m eta \u001b[36m0:00:00\u001b[0m\n",
            "\u001b[?25hDownloading jiter-0.5.0-cp310-cp310-manylinux_2_17_x86_64.manylinux2014_x86_64.whl (318 kB)\n",
            "\u001b[2K   \u001b[90m━━━━━━━━━━━━━━━━━━━━━━━━━━━━━━━━━━━━━━━━\u001b[0m \u001b[32m318.9/318.9 kB\u001b[0m \u001b[31m20.4 MB/s\u001b[0m eta \u001b[36m0:00:00\u001b[0m\n",
            "\u001b[?25hInstalling collected packages: jiter, openai\n",
            "Successfully installed jiter-0.5.0 openai-1.43.0\n"
          ]
        }
      ],
      "source": [
        "!pip install python-dotenv\n",
        "!pip install groq\n",
        "!pip install openai"
      ]
    },
    {
      "cell_type": "code",
      "source": [
        "import os\n",
        "from dotenv import load_dotenv, find_dotenv\n",
        "load_dotenv()"
      ],
      "metadata": {
        "colab": {
          "base_uri": "https://localhost:8080/"
        },
        "id": "bI9opc5asoHg",
        "outputId": "45074038-85a4-4934-e8b9-315d3c7f43fd"
      },
      "execution_count": 5,
      "outputs": [
        {
          "output_type": "execute_result",
          "data": {
            "text/plain": [
              "True"
            ]
          },
          "metadata": {},
          "execution_count": 5
        }
      ]
    },
    {
      "cell_type": "code",
      "source": [
        "import random\n",
        "import asyncio\n",
        "from groq import AsyncGroq\n",
        "import nest_asyncio\n",
        "from openai import AsyncClient"
      ],
      "metadata": {
        "id": "wfa7qjLdst74"
      },
      "execution_count": 6,
      "outputs": []
    },
    {
      "cell_type": "code",
      "source": [
        "data = {\n",
        "    \"llama3-8b-8192\": \"Here's a product review pitch for a social media content creator in the 25-35 age group with a 2-minute speech time: **Title:** Affordable TV for the Win: TCL 55\\\" 4-Series Review! **Begin with a hook:** Hey guys, have you struggled to find a TV that meets your entertainment needs without breaking the bank? Today, I'm excited to share with you my review of the TCL 55\\\" Class 4-Series 4K UHD Smart Roku TV, which has been a game-changer for me! **Highlight key features:** This TV is all about delivering stunning picture quality with its 4K UHD resolution, HDR technology, and easy voice control. But what really stands out is its user-friendly design, with a simple and personalized home screen that makes it easy to access your favorite streaming services and devices. **Address potential concerns:** Of course, no product is perfect, and some users have noted that HDR performance might not be as good as higher-end models. Additionally, a few users have reported brightness issues, but these can be easily resolved by adjusting the settings or replacing the backlights. **Share your personal experience:** As someone who's been using this TV for a while, I can attest that it's been a great addition to my home entertainment setup. I love how easy it is to navigate, and the picture quality is truly amazing. Plus, the TV's value for money is unbeatable you won't find a 4K UHD TV with this level of quality at this price point anywhere else! **End with a call-to-action:** So if you're in the market for a new TV and want a reliable, budget-friendly option that won't disappoint, I highly recommend checking out the TCL 55\\\" Class 4-Series 4K UHD Smart Roku TV. Trust me, you won't regret it!\",\n",
        "    \"mixtral-8x7b-32768\": \"Hello everyone! Today I'm excited to share my review on the TCL 55\\\" Class 4-Series 4K UHD Smart Roku TV. This TV offers a fantastic balance between quality, features, and affordability. First, let's talk about the cost. You can find it on Amazon for around $346.95, although there are occasional discounts that bring the price down to $274.00. At this price range, it's an excellent choice for anyone looking for a budget-friendly 4K UHD TV. Now, let's dive into the TV's dimensions. It weighs approximately 23 pounds and has the following dimensions: 11.8 x 48.7 x 30.4 inches. These measurements make it a perfect fit for most entertainment setups, whether you're placing it on a stand or mounting it on a wall. Here are the top pros of the TCL 55\\\" Class 4-Series 4K UHD Smart Roku TV: 1. **Stunning Picture Quality:** Enjoy vivid colors and enhanced clarity with the TV's stunning 4K UHD picture quality, which has four times the resolution of Full HD. 2. **HDR Technology:** The TV's High Dynamic Range (HDR) technology provides bright and accurate colors, making the viewing experience lifelike and engaging. 3. **Easy Voice Control:** Manage the TV effortlessly using popular voice assistants like Siri, Alexa, or Hey Google. No more fumbling around for remote controls! 4. **Simple, Personalized Home Screen:** Access thousands of streaming channels, cable TV, gaming consoles, and other devices without complicated menus. 5. **Endless Entertainment:** The TV supports various content sources, including streaming services, cable/satellite subscriptions, and free over-the-air channels. 6. **Game Mode:** A dedicated Game Mode adjusts picture settings for an optimized fast-response gaming experience. While there are several advantages, let's also discuss the cons of the TCL 55\\\" Class 4-Series 4K UHD Smart Roku TV: 1. **HDR Limitations:** Some users have noted that the HDR performance is not as good as higher-end models, such as the TCL 6 Series. 2. **Brightness Issues:** Some users have reported brightness issues, particularly with the backlight. However, these issues can usually be resolved by adjusting the settings or replacing the backlights if necessary. Customer reviews for this TV are generally positive, but with some caveats regarding HDR performance and brightness. On Amazon, it typically receives a 4.2 out of 5-star rating, with many users praising its picture quality, ease of use, and value for money. Users on Reddit have mixed opinions, with some praising its performance for the price and others noting issues with HDR and brightness. The TCL 55\\\" Class 4-Series 4K UHD Smart Roku TV is a solid choice for those looking for a budget-friendly 4K UHD TV with a wide range of entertainment options. However, if you're seeking superior HDR performance, you may want to consider a higher-end model. That's it for my review of the TCL 55\\\" Class 4-Series 4K UHD Smart Roku TV! If you have any questions or would like more information, leave a comment below or find me on social media. Thanks for watching!\",\n",
        "    \"gemma-7b-it\": \"## Social Media Content Creator Product Review Pitch: TCL 55\\\" Class 4-Series 4K UHD Smart Roku TV **Attention Content Creators! ** Ever struggle to find a TV that delivers stunning picture quality, easy control, and a budget-friendly price? Look no further! I'm excited to tell you about the TCL 55\\\" Class 4-Series 4K UHD Smart Roku TV - a hidden gem that delivers: ** Stunning Picture Quality:** 4K UHD resolution and HDR technology for lifelike visuals. ** Easy Voice Control:** Control your TV with just your voice using Siri, Alexa, or Hey Google. ** Endless Entertainment:** Access thousands of streaming channels, cable TV, and gaming console content. ** Budget-Friendly:** Get all this for just $346.95, with occasional discounts! **Here's what the internet is saying:** * \\\"Stunning picture quality for the price!\\\" * \\\"Easy to set up and use, even for beginners.\\\" * \\\"Exceptional entertainment value for the whole family.\\\" **But there's more!** There are some things to be aware of: * The HDR performance isn't as impressive as more expensive models. * Some users have reported brightness issues. **Overall, the TCL 55\\\" Class 4-Series TV is a great option for those who want a budget-friendly 4K TV with amazing features. Should you give it a try? ** **#TCLTV #SmartTV #4KUltraHD #Roku #BudgetTV #ContentCreator #Review #SocialMedia #VideoReview #TechReview #Entertainment** **Contact me for more information and to schedule a review unit!**\"\n",
        "}"
      ],
      "metadata": {
        "id": "CynXQDW9sxMq"
      },
      "execution_count": 7,
      "outputs": []
    },
    {
      "cell_type": "code",
      "source": [
        "age_category = (25, 35)"
      ],
      "metadata": {
        "id": "fSWwYLq3s0HR"
      },
      "execution_count": 8,
      "outputs": []
    },
    {
      "cell_type": "code",
      "source": [
        "PROFESSIONS = [\"teacher\", \"barber\", \"dancer\", \"engineer\", \"doctor\", \"artist\", \"chef\", \"writer\", \"nurse\", \"lawyer\", \"musician\", \"actor\", \"scientist\", \"pilot\",\"student\"]\n"
      ],
      "metadata": {
        "id": "EMWNU_dls2NY"
      },
      "execution_count": 9,
      "outputs": []
    },
    {
      "cell_type": "code",
      "source": [
        "client1 = AsyncGroq(api_key=os.getenv(\"GROQ_API_KEY1\"))\n",
        "client2 = AsyncGroq(api_key=os.getenv(\"GROQ_API_KEY2\"))\n",
        "client3 = AsyncGroq(api_key=os.getenv(\"GROQ_API_KEY3\"))\n",
        "client4 = AsyncGroq(api_key=os.getenv(\"GROQ_API_KEY4\"))\n",
        "client5 = AsyncGroq(api_key=os.getenv(\"GROQ_API_KEY_TIRTH\"))\n",
        "client6 = AsyncGroq(api_key=os.getenv(\"GROQ_API_KEY_TIRTH_2\"))\n",
        "client7 = AsyncGroq(api_key=os.getenv(\"GROQ_API_KEY_THARAN\"))"
      ],
      "metadata": {
        "id": "qPl4bPA2s-8q"
      },
      "execution_count": 10,
      "outputs": []
    },
    {
      "cell_type": "code",
      "source": [
        "nest_asyncio.apply()"
      ],
      "metadata": {
        "id": "LnON0RWktFtH"
      },
      "execution_count": 11,
      "outputs": []
    },
    {
      "cell_type": "code",
      "source": [
        "def create_audience_member(age_category, professions,count, llms, clients):\n",
        "    age = random.randint(age_category[0], age_category[1])\n",
        "    profession = random.choice(professions)\n",
        "    temp = count%7\n",
        "    llm = llms[random.randint(0,6)]\n",
        "    client = clients[temp]\n",
        "    return {\n",
        "        \"age\": age,\n",
        "        \"profession\": profession,\n",
        "        \"llm\": llm,\n",
        "        \"client\": client\n",
        "    }"
      ],
      "metadata": {
        "id": "Q6VceceVtf7R"
      },
      "execution_count": 11,
      "outputs": []
    },
    {
      "cell_type": "code",
      "source": [
        "def create_audience(num_people, age_category, professions,llms,clients):\n",
        "    return [create_audience_member(age_category, professions,i,llms,clients) for i in range(num_people)]"
      ],
      "metadata": {
        "id": "1H06hny8ugH3"
      },
      "execution_count": null,
      "outputs": []
    },
    {
      "cell_type": "code",
      "source": [
        "from datetime import datetime\n",
        "\n",
        "class LLM:\n",
        "    def __init__(self, **kwargs):\n",
        "        self.__id = kwargs.get('id')\n",
        "        self.__requests_per_minute = kwargs.get('requests_per_minute', 0)\n",
        "        self.__requests_per_day = kwargs.get('requests_per_day', 0)\n",
        "        self.__tokens_per_minute = kwargs.get('tokens_per_minute', 0)\n",
        "        self.__tokens_per_day = kwargs.get('tokens_per_day', 0)\n",
        "        self.__reset_time = datetime.now()\n",
        "        self.__reset_date = datetime.now().date()\n",
        "\n",
        "    @property\n",
        "    def id(self): return self.__id\n",
        "\n",
        "    @property\n",
        "    def requests_per_minute(self): return self.__requests_per_minute\n",
        "\n",
        "    @property\n",
        "    def requests_per_day(self): return self.__requests_per_day\n",
        "\n",
        "    @property\n",
        "    def tokens_per_minute(self): return self.__tokens_per_minute\n",
        "\n",
        "    @property\n",
        "    def tokens_per_day(self): return self.__tokens_per_day\n",
        "\n",
        "    def __str__(self):\n",
        "      return self.id"
      ],
      "metadata": {
        "id": "iLFxnSt6-LCT"
      },
      "execution_count": 36,
      "outputs": []
    },
    {
      "cell_type": "code",
      "source": [
        "class Client:\n",
        "  def __init__(self, client):\n",
        "    self.__client = client\n",
        "    self.__active_client_count = 0\n",
        "\n",
        "  @property\n",
        "  def client(self):\n",
        "    return self.client\n",
        "  @property\n",
        "  def active_client_count(self):\n",
        "    return self.__active_client_count\n",
        "\n",
        "  def add_active_client_count(self):\n",
        "    self.__active_client_count +=1\n",
        "\n",
        "  def remove_active_client_count(self):\n",
        "    self.__active_client_count -=1"
      ],
      "metadata": {
        "id": "hFT-aeVrBruC"
      },
      "execution_count": 27,
      "outputs": []
    },
    {
      "cell_type": "code",
      "source": [
        "import math\n",
        "llms ={\"gemma-7b-it\": {\"requests_per_minute\":30,\n",
        "                       \"requests_per_day\":14400,\n",
        "                       \"tokens_per_minute\":15000,\n",
        "                       \"tokens_per_day\":math.inf},\n",
        "       \"gemma2-9b-it\":{\"requests_per_minute\":30,\n",
        "                       \"requests_per_day\":14400,\n",
        "                       \"tokens_per_minute\":15000,\n",
        "                       \"tokens_per_day\":math.inf},\n",
        "       \"llama-3.1-70b-versatile\":{\"requests_per_minute\":100,\n",
        "                                  \"requests_per_day\":14400,\n",
        "                                  \"tokens_per_minute\":131072,\n",
        "                                  \"tokens_per_day\":1000000},\n",
        "       \"llama-3.1-8b-instant\": {\"requests_per_minute\":30,\n",
        "                                \"requests_per_day\":14400,\n",
        "                                \"tokens_per_minute\":131072,\n",
        "                                \"tokens_per_day\":1000000},\n",
        "       \"llama-guard-3-8b\":{\"requests_per_minute\":30,\n",
        "                           \"requests_per_day\":14400,\n",
        "                           \"tokens_per_minute\":15000,\n",
        "                           \"tokens_per_day\":math.inf},\n",
        "       \"llama3-70b-8192\": {\"requests_per_minute\":30,\n",
        "                           \"requests_per_day\":14400,\n",
        "                           \"tokens_per_minute\":6000,\n",
        "                           \"tokens_per_day\":math.inf},\n",
        "       \"llama3-8b-8192\": {\"requests_per_minute\":30,\n",
        "                          \"requests_per_day\":14400,\n",
        "                          \"tokens_per_minute\":30000,\n",
        "                          \"tokens_per_day\":math.inf},\n",
        "       \"llama3-groq-70b-8192-tool-use-preview\": {\"requests_per_minute\":30,\n",
        "                                                 \"requests_per_day\":14400,\n",
        "                                                 \"tokens_per_minute\":15000,\n",
        "                                                 \"tokens_per_day\":math.inf},\n",
        "       \"llama3-groq-8b-8192-tool-use-preview\":{\"requests_per_minute\":30,\n",
        "                                               \"requests_per_day\":14400,\n",
        "                                               \"tokens_per_minute\":15000,\n",
        "                                               \"tokens_per_day\":math.inf},\n",
        "       \"mixtral-8x7b-32768\": {\"requests_per_minute\":30,\n",
        "                              \"requests_per_day\":14400,\n",
        "                              \"tokens_per_minute\":5000,\n",
        "                              \"tokens_per_day\":math.inf}}\n"
      ],
      "metadata": {
        "id": "CRrH91Y-6_1t"
      },
      "execution_count": 19,
      "outputs": []
    },
    {
      "cell_type": "code",
      "source": [
        "client1 = Client(AsyncGroq(api_key=os.getenv(\"GROQ_API_KEY1\")))\n",
        "client2 = Client(AsyncGroq(api_key=os.getenv(\"GROQ_API_KEY2\")))\n",
        "client3 = Client(AsyncGroq(api_key=os.getenv(\"GROQ_API_KEY3\")))\n",
        "client4 = Client(AsyncGroq(api_key=os.getenv(\"GROQ_API_KEY4\")))\n",
        "client5 = Client(AsyncGroq(api_key=os.getenv(\"GROQ_API_KEY_TIRTH\")))\n",
        "client6 = Client(AsyncGroq(api_key=os.getenv(\"GROQ_API_KEY_TIRTH_2\")))\n",
        "client7 = Client(AsyncGroq(api_key=os.getenv(\"GROQ_API_KEY_THARAN\")))"
      ],
      "metadata": {
        "id": "usuhdDsvE_9k"
      },
      "execution_count": 28,
      "outputs": []
    },
    {
      "cell_type": "code",
      "source": [
        "clients = [ client1,client2,client3,client4,client5,client6,client7]"
      ],
      "metadata": {
        "id": "3CA0vCP-FFrp"
      },
      "execution_count": 29,
      "outputs": []
    },
    {
      "cell_type": "code",
      "source": [
        "for i in llms:\n",
        "  print(i)"
      ],
      "metadata": {
        "colab": {
          "base_uri": "https://localhost:8080/"
        },
        "id": "tepM_WqDBo-n",
        "outputId": "61c6843a-ae93-4369-aa87-68e1a1bab1e7"
      },
      "execution_count": 30,
      "outputs": [
        {
          "output_type": "stream",
          "name": "stdout",
          "text": [
            "gemma-7b-it\n",
            "gemma2-9b-it\n",
            "llama-3.1-70b-versatile\n",
            "llama-3.1-8b-instant\n",
            "llama-guard-3-8b\n",
            "llama3-70b-8192\n",
            "llama3-8b-8192\n",
            "llama3-groq-70b-8192-tool-use-preview\n",
            "llama3-groq-8b-8192-tool-use-preview\n",
            "mixtral-8x7b-32768\n"
          ]
        }
      ]
    },
    {
      "cell_type": "code",
      "source": [
        "class GroqObjectPool:\n",
        "  def __init__(self, llms, clients):\n",
        "    self.__pool = {}\n",
        "    self.__llms = llms # only to check the limits\n",
        "    self.__clients = clients # shared resource, used maintains the number of async calls\n",
        "    self.__create_pool(llms, clients)\n",
        "\n",
        "  def __create_pool(self, llms, clients):\n",
        "    count = 0\n",
        "    for llm_name, llm_features in llms.items():\n",
        "      for client in clients:\n",
        "        llm = LLM(id =llm_name, requests_per_minute= llm_features[\"requests_per_minute\"],requests_per_day=llm_features[\"requests_per_day\"],\n",
        "                  tokens_per_minute = llm_features[\"tokens_per_minute\"], tokens_per_day= llm_features[\"tokens_per_day\"])\n",
        "        self.__pool[count] = (llm, client)\n",
        "        count += 1\n",
        "\n",
        "  @property\n",
        "  def pool(self):\n",
        "    return self.__pool\n"
      ],
      "metadata": {
        "id": "BeOWE-zHG9EN"
      },
      "execution_count": 31,
      "outputs": []
    },
    {
      "cell_type": "code",
      "source": [
        "obj = GroqObjectPool(llms, clients)"
      ],
      "metadata": {
        "id": "gdGVJwhaG-kd"
      },
      "execution_count": 32,
      "outputs": []
    },
    {
      "cell_type": "code",
      "source": [
        "resources = obj.pool"
      ],
      "metadata": {
        "id": "Zup69Sl2HIOx"
      },
      "execution_count": 33,
      "outputs": []
    },
    {
      "cell_type": "code",
      "source": [
        "for key, value in resources.items():\n",
        "  print(key, value[0])"
      ],
      "metadata": {
        "colab": {
          "base_uri": "https://localhost:8080/"
        },
        "id": "a0lsUhydHLx1",
        "outputId": "37c387f4-75ae-4d85-a4be-0fffec242ee8"
      },
      "execution_count": 34,
      "outputs": [
        {
          "output_type": "stream",
          "name": "stdout",
          "text": [
            "0 gemma-7b-it\n",
            "1 gemma-7b-it\n",
            "2 gemma-7b-it\n",
            "3 gemma-7b-it\n",
            "4 gemma-7b-it\n",
            "5 gemma-7b-it\n",
            "6 gemma-7b-it\n",
            "7 gemma2-9b-it\n",
            "8 gemma2-9b-it\n",
            "9 gemma2-9b-it\n",
            "10 gemma2-9b-it\n",
            "11 gemma2-9b-it\n",
            "12 gemma2-9b-it\n",
            "13 gemma2-9b-it\n",
            "14 llama-3.1-70b-versatile\n",
            "15 llama-3.1-70b-versatile\n",
            "16 llama-3.1-70b-versatile\n",
            "17 llama-3.1-70b-versatile\n",
            "18 llama-3.1-70b-versatile\n",
            "19 llama-3.1-70b-versatile\n",
            "20 llama-3.1-70b-versatile\n",
            "21 llama-3.1-8b-instant\n",
            "22 llama-3.1-8b-instant\n",
            "23 llama-3.1-8b-instant\n",
            "24 llama-3.1-8b-instant\n",
            "25 llama-3.1-8b-instant\n",
            "26 llama-3.1-8b-instant\n",
            "27 llama-3.1-8b-instant\n",
            "28 llama-guard-3-8b\n",
            "29 llama-guard-3-8b\n",
            "30 llama-guard-3-8b\n",
            "31 llama-guard-3-8b\n",
            "32 llama-guard-3-8b\n",
            "33 llama-guard-3-8b\n",
            "34 llama-guard-3-8b\n",
            "35 llama3-70b-8192\n",
            "36 llama3-70b-8192\n",
            "37 llama3-70b-8192\n",
            "38 llama3-70b-8192\n",
            "39 llama3-70b-8192\n",
            "40 llama3-70b-8192\n",
            "41 llama3-70b-8192\n",
            "42 llama3-8b-8192\n",
            "43 llama3-8b-8192\n",
            "44 llama3-8b-8192\n",
            "45 llama3-8b-8192\n",
            "46 llama3-8b-8192\n",
            "47 llama3-8b-8192\n",
            "48 llama3-8b-8192\n",
            "49 llama3-groq-70b-8192-tool-use-preview\n",
            "50 llama3-groq-70b-8192-tool-use-preview\n",
            "51 llama3-groq-70b-8192-tool-use-preview\n",
            "52 llama3-groq-70b-8192-tool-use-preview\n",
            "53 llama3-groq-70b-8192-tool-use-preview\n",
            "54 llama3-groq-70b-8192-tool-use-preview\n",
            "55 llama3-groq-70b-8192-tool-use-preview\n",
            "56 llama3-groq-8b-8192-tool-use-preview\n",
            "57 llama3-groq-8b-8192-tool-use-preview\n",
            "58 llama3-groq-8b-8192-tool-use-preview\n",
            "59 llama3-groq-8b-8192-tool-use-preview\n",
            "60 llama3-groq-8b-8192-tool-use-preview\n",
            "61 llama3-groq-8b-8192-tool-use-preview\n",
            "62 llama3-groq-8b-8192-tool-use-preview\n",
            "63 mixtral-8x7b-32768\n",
            "64 mixtral-8x7b-32768\n",
            "65 mixtral-8x7b-32768\n",
            "66 mixtral-8x7b-32768\n",
            "67 mixtral-8x7b-32768\n",
            "68 mixtral-8x7b-32768\n",
            "69 mixtral-8x7b-32768\n"
          ]
        }
      ]
    }
  ]
}